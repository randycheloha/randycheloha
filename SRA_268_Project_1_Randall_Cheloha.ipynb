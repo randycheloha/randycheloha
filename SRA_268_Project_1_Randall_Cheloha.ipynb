{
  "nbformat": 4,
  "nbformat_minor": 0,
  "metadata": {
    "colab": {
      "name": "SRA 268_Project 1_Randall Cheloha.ipynb",
      "provenance": []
    },
    "kernelspec": {
      "name": "python3",
      "display_name": "Python 3"
    }
  },
  "cells": [
    {
      "cell_type": "markdown",
      "metadata": {
        "id": "xOJ4uTx-an7d",
        "colab_type": "text"
      },
      "source": [
        "### Precipitation in State College for January 2017\n"
      ]
    },
    {
      "cell_type": "markdown",
      "metadata": {
        "id": "glSCpqjLdxcI",
        "colab_type": "text"
      },
      "source": [
        "###Outline\n"
      ]
    },
    {
      "cell_type": "markdown",
      "metadata": {
        "id": "oKMJ6KFWasNo",
        "colab_type": "text"
      },
      "source": [
        "The goal of this notebook is to analyze data for State College weather and create a graph. Using the data provided, I have graphed the average precipitation in State college over the month of January 2017. I will be graphing the data week to week in order to show how the weather changed throughout the month."
      ]
    },
    {
      "cell_type": "markdown",
      "metadata": {
        "id": "wRaUlrMfpSwD",
        "colab_type": "text"
      },
      "source": [
        "### Graph\n",
        "https://github.com/randycheloha/randycheloha.git"
      ]
    },
    {
      "cell_type": "markdown",
      "metadata": {
        "id": "9XsuDcVPpa1Y",
        "colab_type": "text"
      },
      "source": [
        "### Conclusion\n",
        "The precipitation average varied wildly over the four weeks in January. The first week was the lowest with 0.02 inches of precipitation, the second week had a spike to 0.14 inches, the third week had a drop to 0.05 inches, and the fourth week had a spike to 0.17 inches. These spikes are heavily influenced by outliers of inches of heavy rain. \n"
      ]
    }
  ]
}